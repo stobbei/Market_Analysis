{
 "cells": [
  {
   "cell_type": "markdown",
   "metadata": {
    "collapsed": true
   },
   "source": [
    "## Analyzing Marketing Opportunities for Web Developement Firm"
   ]
  },
  {
   "cell_type": "markdown",
   "metadata": {},
   "source": [
    "This project's purpose is to illustrate and refine my statistical analysis skills, utilizing concepts like frequency tables and distributions of populations and samples.  I'll work with different measures of center like the mean, median and mode, depending on a variables distribution and type (nominal, ordinal, interval and ratio). Also we'll look at measures of difference like variance and standard deviation.  Then pulling it all together to examine relative differences and z-scores, as well as converting data to and from standardized distributions - allowing similar variables with different measurement scales to be reliably compared."
   ]
  },
  {
   "cell_type": "markdown",
   "metadata": {},
   "source": [
    "I'll be using a survey conducted by freeCodeCamp in 2017, their New Coder Survey, to try to identify especially lucrative markets towards which the company should channel their advertising budget."
   ]
  },
  {
   "cell_type": "code",
   "execution_count": 55,
   "metadata": {},
   "outputs": [],
   "source": [
    "import pandas as pd\n",
    "import numpy as np\n",
    "import matplotlib.pyplot as plt\n",
    "%matplotlib inline"
   ]
  },
  {
   "cell_type": "code",
   "execution_count": 2,
   "metadata": {},
   "outputs": [
    {
     "name": "stderr",
     "output_type": "stream",
     "text": [
      "/home/isaac/anaconda3/lib/python3.7/site-packages/IPython/core/interactiveshell.py:3057: DtypeWarning: Columns (17,62) have mixed types. Specify dtype option on import or set low_memory=False.\n",
      "  interactivity=interactivity, compiler=compiler, result=result)\n"
     ]
    }
   ],
   "source": [
    "survey = pd.read_csv('2017-fCC-New-Coders-Survey-Data.csv')"
   ]
  },
  {
   "cell_type": "code",
   "execution_count": 21,
   "metadata": {},
   "outputs": [],
   "source": [
    "pd.reset_option('^display.', silent=True)"
   ]
  },
  {
   "cell_type": "code",
   "execution_count": 3,
   "metadata": {},
   "outputs": [
    {
     "data": {
      "text/html": [
       "<div>\n",
       "<style scoped>\n",
       "    .dataframe tbody tr th:only-of-type {\n",
       "        vertical-align: middle;\n",
       "    }\n",
       "\n",
       "    .dataframe tbody tr th {\n",
       "        vertical-align: top;\n",
       "    }\n",
       "\n",
       "    .dataframe thead th {\n",
       "        text-align: right;\n",
       "    }\n",
       "</style>\n",
       "<table border=\"1\" class=\"dataframe\">\n",
       "  <thead>\n",
       "    <tr style=\"text-align: right;\">\n",
       "      <th></th>\n",
       "      <th>Age</th>\n",
       "      <th>AttendedBootcamp</th>\n",
       "      <th>BootcampFinish</th>\n",
       "      <th>BootcampLoanYesNo</th>\n",
       "      <th>BootcampName</th>\n",
       "      <th>BootcampRecommend</th>\n",
       "      <th>ChildrenNumber</th>\n",
       "      <th>CityPopulation</th>\n",
       "      <th>CodeEventConferences</th>\n",
       "      <th>CodeEventDjangoGirls</th>\n",
       "      <th>...</th>\n",
       "      <th>YouTubeFCC</th>\n",
       "      <th>YouTubeFunFunFunction</th>\n",
       "      <th>YouTubeGoogleDev</th>\n",
       "      <th>YouTubeLearnCode</th>\n",
       "      <th>YouTubeLevelUpTuts</th>\n",
       "      <th>YouTubeMIT</th>\n",
       "      <th>YouTubeMozillaHacks</th>\n",
       "      <th>YouTubeOther</th>\n",
       "      <th>YouTubeSimplilearn</th>\n",
       "      <th>YouTubeTheNewBoston</th>\n",
       "    </tr>\n",
       "  </thead>\n",
       "  <tbody>\n",
       "    <tr>\n",
       "      <th>0</th>\n",
       "      <td>27.0</td>\n",
       "      <td>0.0</td>\n",
       "      <td>NaN</td>\n",
       "      <td>NaN</td>\n",
       "      <td>NaN</td>\n",
       "      <td>NaN</td>\n",
       "      <td>NaN</td>\n",
       "      <td>more than 1 million</td>\n",
       "      <td>NaN</td>\n",
       "      <td>NaN</td>\n",
       "      <td>...</td>\n",
       "      <td>NaN</td>\n",
       "      <td>NaN</td>\n",
       "      <td>NaN</td>\n",
       "      <td>NaN</td>\n",
       "      <td>NaN</td>\n",
       "      <td>NaN</td>\n",
       "      <td>NaN</td>\n",
       "      <td>NaN</td>\n",
       "      <td>NaN</td>\n",
       "      <td>NaN</td>\n",
       "    </tr>\n",
       "    <tr>\n",
       "      <th>1</th>\n",
       "      <td>34.0</td>\n",
       "      <td>0.0</td>\n",
       "      <td>NaN</td>\n",
       "      <td>NaN</td>\n",
       "      <td>NaN</td>\n",
       "      <td>NaN</td>\n",
       "      <td>NaN</td>\n",
       "      <td>less than 100,000</td>\n",
       "      <td>NaN</td>\n",
       "      <td>NaN</td>\n",
       "      <td>...</td>\n",
       "      <td>1.0</td>\n",
       "      <td>NaN</td>\n",
       "      <td>NaN</td>\n",
       "      <td>NaN</td>\n",
       "      <td>NaN</td>\n",
       "      <td>NaN</td>\n",
       "      <td>NaN</td>\n",
       "      <td>NaN</td>\n",
       "      <td>NaN</td>\n",
       "      <td>NaN</td>\n",
       "    </tr>\n",
       "    <tr>\n",
       "      <th>2</th>\n",
       "      <td>21.0</td>\n",
       "      <td>0.0</td>\n",
       "      <td>NaN</td>\n",
       "      <td>NaN</td>\n",
       "      <td>NaN</td>\n",
       "      <td>NaN</td>\n",
       "      <td>NaN</td>\n",
       "      <td>more than 1 million</td>\n",
       "      <td>NaN</td>\n",
       "      <td>NaN</td>\n",
       "      <td>...</td>\n",
       "      <td>NaN</td>\n",
       "      <td>NaN</td>\n",
       "      <td>NaN</td>\n",
       "      <td>1.0</td>\n",
       "      <td>1.0</td>\n",
       "      <td>NaN</td>\n",
       "      <td>NaN</td>\n",
       "      <td>NaN</td>\n",
       "      <td>NaN</td>\n",
       "      <td>NaN</td>\n",
       "    </tr>\n",
       "    <tr>\n",
       "      <th>3</th>\n",
       "      <td>26.0</td>\n",
       "      <td>0.0</td>\n",
       "      <td>NaN</td>\n",
       "      <td>NaN</td>\n",
       "      <td>NaN</td>\n",
       "      <td>NaN</td>\n",
       "      <td>NaN</td>\n",
       "      <td>between 100,000 and 1 million</td>\n",
       "      <td>NaN</td>\n",
       "      <td>NaN</td>\n",
       "      <td>...</td>\n",
       "      <td>1.0</td>\n",
       "      <td>1.0</td>\n",
       "      <td>NaN</td>\n",
       "      <td>NaN</td>\n",
       "      <td>1.0</td>\n",
       "      <td>NaN</td>\n",
       "      <td>NaN</td>\n",
       "      <td>NaN</td>\n",
       "      <td>NaN</td>\n",
       "      <td>NaN</td>\n",
       "    </tr>\n",
       "    <tr>\n",
       "      <th>4</th>\n",
       "      <td>20.0</td>\n",
       "      <td>0.0</td>\n",
       "      <td>NaN</td>\n",
       "      <td>NaN</td>\n",
       "      <td>NaN</td>\n",
       "      <td>NaN</td>\n",
       "      <td>NaN</td>\n",
       "      <td>between 100,000 and 1 million</td>\n",
       "      <td>NaN</td>\n",
       "      <td>NaN</td>\n",
       "      <td>...</td>\n",
       "      <td>NaN</td>\n",
       "      <td>NaN</td>\n",
       "      <td>NaN</td>\n",
       "      <td>NaN</td>\n",
       "      <td>NaN</td>\n",
       "      <td>NaN</td>\n",
       "      <td>NaN</td>\n",
       "      <td>NaN</td>\n",
       "      <td>NaN</td>\n",
       "      <td>NaN</td>\n",
       "    </tr>\n",
       "  </tbody>\n",
       "</table>\n",
       "<p>5 rows × 136 columns</p>\n",
       "</div>"
      ],
      "text/plain": [
       "    Age  AttendedBootcamp  BootcampFinish  BootcampLoanYesNo BootcampName  \\\n",
       "0  27.0               0.0             NaN                NaN          NaN   \n",
       "1  34.0               0.0             NaN                NaN          NaN   \n",
       "2  21.0               0.0             NaN                NaN          NaN   \n",
       "3  26.0               0.0             NaN                NaN          NaN   \n",
       "4  20.0               0.0             NaN                NaN          NaN   \n",
       "\n",
       "   BootcampRecommend  ChildrenNumber                 CityPopulation  \\\n",
       "0                NaN             NaN            more than 1 million   \n",
       "1                NaN             NaN              less than 100,000   \n",
       "2                NaN             NaN            more than 1 million   \n",
       "3                NaN             NaN  between 100,000 and 1 million   \n",
       "4                NaN             NaN  between 100,000 and 1 million   \n",
       "\n",
       "   CodeEventConferences  CodeEventDjangoGirls  ...  YouTubeFCC  \\\n",
       "0                   NaN                   NaN  ...         NaN   \n",
       "1                   NaN                   NaN  ...         1.0   \n",
       "2                   NaN                   NaN  ...         NaN   \n",
       "3                   NaN                   NaN  ...         1.0   \n",
       "4                   NaN                   NaN  ...         NaN   \n",
       "\n",
       "   YouTubeFunFunFunction  YouTubeGoogleDev  YouTubeLearnCode  \\\n",
       "0                    NaN               NaN               NaN   \n",
       "1                    NaN               NaN               NaN   \n",
       "2                    NaN               NaN               1.0   \n",
       "3                    1.0               NaN               NaN   \n",
       "4                    NaN               NaN               NaN   \n",
       "\n",
       "   YouTubeLevelUpTuts  YouTubeMIT  YouTubeMozillaHacks YouTubeOther  \\\n",
       "0                 NaN         NaN                  NaN          NaN   \n",
       "1                 NaN         NaN                  NaN          NaN   \n",
       "2                 1.0         NaN                  NaN          NaN   \n",
       "3                 1.0         NaN                  NaN          NaN   \n",
       "4                 NaN         NaN                  NaN          NaN   \n",
       "\n",
       "   YouTubeSimplilearn  YouTubeTheNewBoston  \n",
       "0                 NaN                  NaN  \n",
       "1                 NaN                  NaN  \n",
       "2                 NaN                  NaN  \n",
       "3                 NaN                  NaN  \n",
       "4                 NaN                  NaN  \n",
       "\n",
       "[5 rows x 136 columns]"
      ]
     },
     "execution_count": 3,
     "metadata": {},
     "output_type": "execute_result"
    }
   ],
   "source": [
    "survey.head()"
   ]
  },
  {
   "cell_type": "code",
   "execution_count": 22,
   "metadata": {
    "scrolled": true
   },
   "outputs": [
    {
     "name": "stdout",
     "output_type": "stream",
     "text": [
      "<class 'pandas.core.frame.DataFrame'>\n",
      "RangeIndex: 18175 entries, 0 to 18174\n",
      "Data columns (total 136 columns):\n",
      "Age                              15367 non-null float64\n",
      "AttendedBootcamp                 17709 non-null float64\n",
      "BootcampFinish                   1069 non-null float64\n",
      "BootcampLoanYesNo                1079 non-null float64\n",
      "BootcampName                     949 non-null object\n",
      "BootcampRecommend                1073 non-null float64\n",
      "ChildrenNumber                   2314 non-null float64\n",
      "CityPopulation                   15354 non-null object\n",
      "CodeEventConferences             1609 non-null float64\n",
      "CodeEventDjangoGirls             165 non-null float64\n",
      "CodeEventFCC                     1708 non-null float64\n",
      "CodeEventGameJam                 290 non-null float64\n",
      "CodeEventGirlDev                 297 non-null float64\n",
      "CodeEventHackathons              1977 non-null float64\n",
      "CodeEventMeetup                  2472 non-null float64\n",
      "CodeEventNodeSchool              446 non-null float64\n",
      "CodeEventNone                    1076 non-null float64\n",
      "CodeEventOther                   570 non-null object\n",
      "CodeEventRailsBridge             133 non-null float64\n",
      "CodeEventRailsGirls              132 non-null float64\n",
      "CodeEventStartUpWknd             544 non-null float64\n",
      "CodeEventWkdBootcamps            547 non-null float64\n",
      "CodeEventWomenCode               481 non-null float64\n",
      "CodeEventWorkshops               1753 non-null float64\n",
      "CommuteTime                      9246 non-null object\n",
      "CountryCitizen                   15382 non-null object\n",
      "CountryLive                      15336 non-null object\n",
      "EmploymentField                  8116 non-null object\n",
      "EmploymentFieldOther             1078 non-null object\n",
      "EmploymentStatus                 14345 non-null object\n",
      "EmploymentStatusOther            835 non-null object\n",
      "ExpectedEarning                  7200 non-null float64\n",
      "FinanciallySupporting            3833 non-null float64\n",
      "FirstDevJob                      4508 non-null float64\n",
      "Gender                           15454 non-null object\n",
      "GenderOther                      55 non-null object\n",
      "HasChildren                      3858 non-null float64\n",
      "HasDebt                          15291 non-null float64\n",
      "HasFinancialDependents           15329 non-null float64\n",
      "HasHighSpdInternet               15380 non-null float64\n",
      "HasHomeMortgage                  6397 non-null float64\n",
      "HasServedInMilitary              15256 non-null float64\n",
      "HasStudentDebt                   6402 non-null float64\n",
      "HomeMortgageOwe                  1371 non-null float64\n",
      "HoursLearning                    16714 non-null float64\n",
      "ID.x                             18175 non-null object\n",
      "ID.y                             15743 non-null object\n",
      "Income                           7623 non-null float64\n",
      "IsEthnicMinority                 15293 non-null float64\n",
      "IsReceiveDisabilitiesBenefits    15222 non-null float64\n",
      "IsSoftwareDev                    18068 non-null float64\n",
      "IsUnderEmployed                  9223 non-null float64\n",
      "JobApplyWhen                     8138 non-null object\n",
      "JobInterestBackEnd               3201 non-null float64\n",
      "JobInterestDataEngr              1470 non-null float64\n",
      "JobInterestDataSci               1940 non-null float64\n",
      "JobInterestDevOps                1092 non-null float64\n",
      "JobInterestFrontEnd              4047 non-null float64\n",
      "JobInterestFullStack             4831 non-null float64\n",
      "JobInterestGameDev               1875 non-null float64\n",
      "JobInterestInfoSec               1560 non-null float64\n",
      "JobInterestMobile                2677 non-null float64\n",
      "JobInterestOther                 266 non-null object\n",
      "JobInterestProjMngr              939 non-null float64\n",
      "JobInterestQAEngr                584 non-null float64\n",
      "JobInterestUX                    1691 non-null float64\n",
      "JobPref                          13483 non-null object\n",
      "JobRelocateYesNo                 6503 non-null float64\n",
      "JobRoleInterest                  6992 non-null object\n",
      "JobWherePref                     8118 non-null object\n",
      "LanguageAtHome                   15344 non-null object\n",
      "MaritalStatus                    15335 non-null object\n",
      "MoneyForLearning                 16577 non-null float64\n",
      "MonthsProgramming                17084 non-null float64\n",
      "NetworkID                        18175 non-null object\n",
      "Part1EndTime                     18175 non-null object\n",
      "Part1StartTime                   18175 non-null object\n",
      "Part2EndTime                     15743 non-null object\n",
      "Part2StartTime                   15743 non-null object\n",
      "PodcastChangeLog                 403 non-null float64\n",
      "PodcastCodeNewbie                1636 non-null float64\n",
      "PodcastCodePen                   773 non-null float64\n",
      "PodcastDevTea                    728 non-null float64\n",
      "PodcastDotNET                    327 non-null float64\n",
      "PodcastGiantRobots               187 non-null float64\n",
      "PodcastJSAir                     726 non-null float64\n",
      "PodcastJSJabber                  1123 non-null float64\n",
      "PodcastNone                      1061 non-null float64\n",
      "PodcastOther                     850 non-null object\n",
      "PodcastProgThrowdown             345 non-null float64\n",
      "PodcastRubyRogues                333 non-null float64\n",
      "PodcastSEDaily                   790 non-null float64\n",
      "PodcastSERadio                   408 non-null float64\n",
      "PodcastShopTalk                  318 non-null float64\n",
      "PodcastTalkPython                655 non-null float64\n",
      "PodcastTheWebAhead               311 non-null float64\n",
      "ResourceCodecademy               9390 non-null float64\n",
      "ResourceCodeWars                 1848 non-null float64\n",
      "ResourceCoursera                 4402 non-null float64\n",
      "ResourceCSS                      4671 non-null float64\n",
      "ResourceEdX                      3243 non-null float64\n",
      "ResourceEgghead                  1341 non-null float64\n",
      "ResourceFCC                      13803 non-null float64\n",
      "ResourceHackerRank               2049 non-null float64\n",
      "ResourceKA                       3800 non-null float64\n",
      "ResourceLynda                    2558 non-null float64\n",
      "ResourceMDN                      6417 non-null float64\n",
      "ResourceOdinProj                 976 non-null float64\n",
      "ResourceOther                    1024 non-null object\n",
      "ResourcePluralSight              2392 non-null float64\n",
      "ResourceSkillcrush               452 non-null float64\n",
      "ResourceSO                       11207 non-null float64\n",
      "ResourceTreehouse                2260 non-null float64\n",
      "ResourceUdacity                  3837 non-null float64\n",
      "ResourceUdemy                    5120 non-null float64\n",
      "ResourceW3S                      9765 non-null float64\n",
      "SchoolDegree                     15368 non-null object\n",
      "SchoolMajor                      8727 non-null object\n",
      "StudentDebtOwe                   3362 non-null float64\n",
      "YouTubeCodeCourse                956 non-null float64\n",
      "YouTubeCodingTrain               976 non-null float64\n",
      "YouTubeCodingTut360              1397 non-null float64\n",
      "YouTubeComputerphile             1453 non-null float64\n",
      "YouTubeDerekBanas                1847 non-null float64\n",
      "YouTubeDevTips                   2619 non-null float64\n",
      "YouTubeEngineeredTruth           993 non-null float64\n",
      "YouTubeFCC                       6036 non-null float64\n",
      "YouTubeFunFunFunction            1261 non-null float64\n",
      "YouTubeGoogleDev                 3539 non-null float64\n",
      "YouTubeLearnCode                 2662 non-null float64\n",
      "YouTubeLevelUpTuts               1396 non-null float64\n",
      "YouTubeMIT                       3327 non-null float64\n",
      "YouTubeMozillaHacks              622 non-null float64\n",
      "YouTubeOther                     1214 non-null object\n",
      "YouTubeSimplilearn               201 non-null float64\n",
      "YouTubeTheNewBoston              2960 non-null float64\n",
      "dtypes: float64(105), object(31)\n",
      "memory usage: 18.9+ MB\n"
     ]
    }
   ],
   "source": [
    "survey.info(verbose=True, null_counts=True)"
   ]
  },
  {
   "cell_type": "code",
   "execution_count": 10,
   "metadata": {},
   "outputs": [
    {
     "data": {
      "text/html": [
       "<div>\n",
       "<style scoped>\n",
       "    .dataframe tbody tr th:only-of-type {\n",
       "        vertical-align: middle;\n",
       "    }\n",
       "\n",
       "    .dataframe tbody tr th {\n",
       "        vertical-align: top;\n",
       "    }\n",
       "\n",
       "    .dataframe thead th {\n",
       "        text-align: right;\n",
       "    }\n",
       "</style>\n",
       "<table border=\"1\" class=\"dataframe\">\n",
       "  <thead>\n",
       "    <tr style=\"text-align: right;\">\n",
       "      <th></th>\n",
       "      <th>Age</th>\n",
       "      <th>AttendedBootcamp</th>\n",
       "      <th>BootcampFinish</th>\n",
       "      <th>BootcampLoanYesNo</th>\n",
       "      <th>BootcampName</th>\n",
       "      <th>BootcampRecommend</th>\n",
       "      <th>ChildrenNumber</th>\n",
       "      <th>CityPopulation</th>\n",
       "      <th>CodeEventConferences</th>\n",
       "      <th>CodeEventDjangoGirls</th>\n",
       "      <th>...</th>\n",
       "      <th>YouTubeFCC</th>\n",
       "      <th>YouTubeFunFunFunction</th>\n",
       "      <th>YouTubeGoogleDev</th>\n",
       "      <th>YouTubeLearnCode</th>\n",
       "      <th>YouTubeLevelUpTuts</th>\n",
       "      <th>YouTubeMIT</th>\n",
       "      <th>YouTubeMozillaHacks</th>\n",
       "      <th>YouTubeOther</th>\n",
       "      <th>YouTubeSimplilearn</th>\n",
       "      <th>YouTubeTheNewBoston</th>\n",
       "    </tr>\n",
       "  </thead>\n",
       "  <tbody>\n",
       "    <tr>\n",
       "      <th>count</th>\n",
       "      <td>15367.000000</td>\n",
       "      <td>17709.000000</td>\n",
       "      <td>1069.000000</td>\n",
       "      <td>1079.000000</td>\n",
       "      <td>949</td>\n",
       "      <td>1073.000000</td>\n",
       "      <td>2314.000000</td>\n",
       "      <td>15354</td>\n",
       "      <td>1609.0</td>\n",
       "      <td>165.0</td>\n",
       "      <td>...</td>\n",
       "      <td>6036.0</td>\n",
       "      <td>1261.0</td>\n",
       "      <td>3539.0</td>\n",
       "      <td>2662.0</td>\n",
       "      <td>1396.0</td>\n",
       "      <td>3327.0</td>\n",
       "      <td>622.0</td>\n",
       "      <td>1214</td>\n",
       "      <td>201.0</td>\n",
       "      <td>2960.0</td>\n",
       "    </tr>\n",
       "    <tr>\n",
       "      <th>unique</th>\n",
       "      <td>NaN</td>\n",
       "      <td>NaN</td>\n",
       "      <td>NaN</td>\n",
       "      <td>NaN</td>\n",
       "      <td>141</td>\n",
       "      <td>NaN</td>\n",
       "      <td>NaN</td>\n",
       "      <td>3</td>\n",
       "      <td>NaN</td>\n",
       "      <td>NaN</td>\n",
       "      <td>...</td>\n",
       "      <td>NaN</td>\n",
       "      <td>NaN</td>\n",
       "      <td>NaN</td>\n",
       "      <td>NaN</td>\n",
       "      <td>NaN</td>\n",
       "      <td>NaN</td>\n",
       "      <td>NaN</td>\n",
       "      <td>736</td>\n",
       "      <td>NaN</td>\n",
       "      <td>NaN</td>\n",
       "    </tr>\n",
       "    <tr>\n",
       "      <th>top</th>\n",
       "      <td>NaN</td>\n",
       "      <td>NaN</td>\n",
       "      <td>NaN</td>\n",
       "      <td>NaN</td>\n",
       "      <td>General Assembly</td>\n",
       "      <td>NaN</td>\n",
       "      <td>NaN</td>\n",
       "      <td>more than 1 million</td>\n",
       "      <td>NaN</td>\n",
       "      <td>NaN</td>\n",
       "      <td>...</td>\n",
       "      <td>NaN</td>\n",
       "      <td>NaN</td>\n",
       "      <td>NaN</td>\n",
       "      <td>NaN</td>\n",
       "      <td>NaN</td>\n",
       "      <td>NaN</td>\n",
       "      <td>NaN</td>\n",
       "      <td>none</td>\n",
       "      <td>NaN</td>\n",
       "      <td>NaN</td>\n",
       "    </tr>\n",
       "    <tr>\n",
       "      <th>freq</th>\n",
       "      <td>NaN</td>\n",
       "      <td>NaN</td>\n",
       "      <td>NaN</td>\n",
       "      <td>NaN</td>\n",
       "      <td>58</td>\n",
       "      <td>NaN</td>\n",
       "      <td>NaN</td>\n",
       "      <td>6534</td>\n",
       "      <td>NaN</td>\n",
       "      <td>NaN</td>\n",
       "      <td>...</td>\n",
       "      <td>NaN</td>\n",
       "      <td>NaN</td>\n",
       "      <td>NaN</td>\n",
       "      <td>NaN</td>\n",
       "      <td>NaN</td>\n",
       "      <td>NaN</td>\n",
       "      <td>NaN</td>\n",
       "      <td>78</td>\n",
       "      <td>NaN</td>\n",
       "      <td>NaN</td>\n",
       "    </tr>\n",
       "    <tr>\n",
       "      <th>mean</th>\n",
       "      <td>27.691872</td>\n",
       "      <td>0.062002</td>\n",
       "      <td>0.699719</td>\n",
       "      <td>0.305839</td>\n",
       "      <td>NaN</td>\n",
       "      <td>0.818267</td>\n",
       "      <td>1.832325</td>\n",
       "      <td>NaN</td>\n",
       "      <td>1.0</td>\n",
       "      <td>1.0</td>\n",
       "      <td>...</td>\n",
       "      <td>1.0</td>\n",
       "      <td>1.0</td>\n",
       "      <td>1.0</td>\n",
       "      <td>1.0</td>\n",
       "      <td>1.0</td>\n",
       "      <td>1.0</td>\n",
       "      <td>1.0</td>\n",
       "      <td>NaN</td>\n",
       "      <td>1.0</td>\n",
       "      <td>1.0</td>\n",
       "    </tr>\n",
       "    <tr>\n",
       "      <th>std</th>\n",
       "      <td>8.559239</td>\n",
       "      <td>0.241167</td>\n",
       "      <td>0.458594</td>\n",
       "      <td>0.460975</td>\n",
       "      <td>NaN</td>\n",
       "      <td>0.385805</td>\n",
       "      <td>0.972813</td>\n",
       "      <td>NaN</td>\n",
       "      <td>0.0</td>\n",
       "      <td>0.0</td>\n",
       "      <td>...</td>\n",
       "      <td>0.0</td>\n",
       "      <td>0.0</td>\n",
       "      <td>0.0</td>\n",
       "      <td>0.0</td>\n",
       "      <td>0.0</td>\n",
       "      <td>0.0</td>\n",
       "      <td>0.0</td>\n",
       "      <td>NaN</td>\n",
       "      <td>0.0</td>\n",
       "      <td>0.0</td>\n",
       "    </tr>\n",
       "    <tr>\n",
       "      <th>min</th>\n",
       "      <td>0.000000</td>\n",
       "      <td>0.000000</td>\n",
       "      <td>0.000000</td>\n",
       "      <td>0.000000</td>\n",
       "      <td>NaN</td>\n",
       "      <td>0.000000</td>\n",
       "      <td>1.000000</td>\n",
       "      <td>NaN</td>\n",
       "      <td>1.0</td>\n",
       "      <td>1.0</td>\n",
       "      <td>...</td>\n",
       "      <td>1.0</td>\n",
       "      <td>1.0</td>\n",
       "      <td>1.0</td>\n",
       "      <td>1.0</td>\n",
       "      <td>1.0</td>\n",
       "      <td>1.0</td>\n",
       "      <td>1.0</td>\n",
       "      <td>NaN</td>\n",
       "      <td>1.0</td>\n",
       "      <td>1.0</td>\n",
       "    </tr>\n",
       "    <tr>\n",
       "      <th>25%</th>\n",
       "      <td>22.000000</td>\n",
       "      <td>0.000000</td>\n",
       "      <td>0.000000</td>\n",
       "      <td>0.000000</td>\n",
       "      <td>NaN</td>\n",
       "      <td>1.000000</td>\n",
       "      <td>1.000000</td>\n",
       "      <td>NaN</td>\n",
       "      <td>1.0</td>\n",
       "      <td>1.0</td>\n",
       "      <td>...</td>\n",
       "      <td>1.0</td>\n",
       "      <td>1.0</td>\n",
       "      <td>1.0</td>\n",
       "      <td>1.0</td>\n",
       "      <td>1.0</td>\n",
       "      <td>1.0</td>\n",
       "      <td>1.0</td>\n",
       "      <td>NaN</td>\n",
       "      <td>1.0</td>\n",
       "      <td>1.0</td>\n",
       "    </tr>\n",
       "    <tr>\n",
       "      <th>50%</th>\n",
       "      <td>26.000000</td>\n",
       "      <td>0.000000</td>\n",
       "      <td>1.000000</td>\n",
       "      <td>0.000000</td>\n",
       "      <td>NaN</td>\n",
       "      <td>1.000000</td>\n",
       "      <td>2.000000</td>\n",
       "      <td>NaN</td>\n",
       "      <td>1.0</td>\n",
       "      <td>1.0</td>\n",
       "      <td>...</td>\n",
       "      <td>1.0</td>\n",
       "      <td>1.0</td>\n",
       "      <td>1.0</td>\n",
       "      <td>1.0</td>\n",
       "      <td>1.0</td>\n",
       "      <td>1.0</td>\n",
       "      <td>1.0</td>\n",
       "      <td>NaN</td>\n",
       "      <td>1.0</td>\n",
       "      <td>1.0</td>\n",
       "    </tr>\n",
       "    <tr>\n",
       "      <th>75%</th>\n",
       "      <td>32.000000</td>\n",
       "      <td>0.000000</td>\n",
       "      <td>1.000000</td>\n",
       "      <td>1.000000</td>\n",
       "      <td>NaN</td>\n",
       "      <td>1.000000</td>\n",
       "      <td>2.000000</td>\n",
       "      <td>NaN</td>\n",
       "      <td>1.0</td>\n",
       "      <td>1.0</td>\n",
       "      <td>...</td>\n",
       "      <td>1.0</td>\n",
       "      <td>1.0</td>\n",
       "      <td>1.0</td>\n",
       "      <td>1.0</td>\n",
       "      <td>1.0</td>\n",
       "      <td>1.0</td>\n",
       "      <td>1.0</td>\n",
       "      <td>NaN</td>\n",
       "      <td>1.0</td>\n",
       "      <td>1.0</td>\n",
       "    </tr>\n",
       "    <tr>\n",
       "      <th>max</th>\n",
       "      <td>90.000000</td>\n",
       "      <td>1.000000</td>\n",
       "      <td>1.000000</td>\n",
       "      <td>1.000000</td>\n",
       "      <td>NaN</td>\n",
       "      <td>1.000000</td>\n",
       "      <td>9.000000</td>\n",
       "      <td>NaN</td>\n",
       "      <td>1.0</td>\n",
       "      <td>1.0</td>\n",
       "      <td>...</td>\n",
       "      <td>1.0</td>\n",
       "      <td>1.0</td>\n",
       "      <td>1.0</td>\n",
       "      <td>1.0</td>\n",
       "      <td>1.0</td>\n",
       "      <td>1.0</td>\n",
       "      <td>1.0</td>\n",
       "      <td>NaN</td>\n",
       "      <td>1.0</td>\n",
       "      <td>1.0</td>\n",
       "    </tr>\n",
       "  </tbody>\n",
       "</table>\n",
       "<p>11 rows × 136 columns</p>\n",
       "</div>"
      ],
      "text/plain": [
       "                 Age  AttendedBootcamp  BootcampFinish  BootcampLoanYesNo  \\\n",
       "count   15367.000000      17709.000000     1069.000000        1079.000000   \n",
       "unique           NaN               NaN             NaN                NaN   \n",
       "top              NaN               NaN             NaN                NaN   \n",
       "freq             NaN               NaN             NaN                NaN   \n",
       "mean       27.691872          0.062002        0.699719           0.305839   \n",
       "std         8.559239          0.241167        0.458594           0.460975   \n",
       "min         0.000000          0.000000        0.000000           0.000000   \n",
       "25%        22.000000          0.000000        0.000000           0.000000   \n",
       "50%        26.000000          0.000000        1.000000           0.000000   \n",
       "75%        32.000000          0.000000        1.000000           1.000000   \n",
       "max        90.000000          1.000000        1.000000           1.000000   \n",
       "\n",
       "            BootcampName  BootcampRecommend  ChildrenNumber  \\\n",
       "count                949        1073.000000     2314.000000   \n",
       "unique               141                NaN             NaN   \n",
       "top     General Assembly                NaN             NaN   \n",
       "freq                  58                NaN             NaN   \n",
       "mean                 NaN           0.818267        1.832325   \n",
       "std                  NaN           0.385805        0.972813   \n",
       "min                  NaN           0.000000        1.000000   \n",
       "25%                  NaN           1.000000        1.000000   \n",
       "50%                  NaN           1.000000        2.000000   \n",
       "75%                  NaN           1.000000        2.000000   \n",
       "max                  NaN           1.000000        9.000000   \n",
       "\n",
       "             CityPopulation  CodeEventConferences  CodeEventDjangoGirls  ...  \\\n",
       "count                 15354                1609.0                 165.0  ...   \n",
       "unique                    3                   NaN                   NaN  ...   \n",
       "top     more than 1 million                   NaN                   NaN  ...   \n",
       "freq                   6534                   NaN                   NaN  ...   \n",
       "mean                    NaN                   1.0                   1.0  ...   \n",
       "std                     NaN                   0.0                   0.0  ...   \n",
       "min                     NaN                   1.0                   1.0  ...   \n",
       "25%                     NaN                   1.0                   1.0  ...   \n",
       "50%                     NaN                   1.0                   1.0  ...   \n",
       "75%                     NaN                   1.0                   1.0  ...   \n",
       "max                     NaN                   1.0                   1.0  ...   \n",
       "\n",
       "        YouTubeFCC  YouTubeFunFunFunction  YouTubeGoogleDev  YouTubeLearnCode  \\\n",
       "count       6036.0                 1261.0            3539.0            2662.0   \n",
       "unique         NaN                    NaN               NaN               NaN   \n",
       "top            NaN                    NaN               NaN               NaN   \n",
       "freq           NaN                    NaN               NaN               NaN   \n",
       "mean           1.0                    1.0               1.0               1.0   \n",
       "std            0.0                    0.0               0.0               0.0   \n",
       "min            1.0                    1.0               1.0               1.0   \n",
       "25%            1.0                    1.0               1.0               1.0   \n",
       "50%            1.0                    1.0               1.0               1.0   \n",
       "75%            1.0                    1.0               1.0               1.0   \n",
       "max            1.0                    1.0               1.0               1.0   \n",
       "\n",
       "        YouTubeLevelUpTuts  YouTubeMIT  YouTubeMozillaHacks YouTubeOther  \\\n",
       "count               1396.0      3327.0                622.0         1214   \n",
       "unique                 NaN         NaN                  NaN          736   \n",
       "top                    NaN         NaN                  NaN         none   \n",
       "freq                   NaN         NaN                  NaN           78   \n",
       "mean                   1.0         1.0                  1.0          NaN   \n",
       "std                    0.0         0.0                  0.0          NaN   \n",
       "min                    1.0         1.0                  1.0          NaN   \n",
       "25%                    1.0         1.0                  1.0          NaN   \n",
       "50%                    1.0         1.0                  1.0          NaN   \n",
       "75%                    1.0         1.0                  1.0          NaN   \n",
       "max                    1.0         1.0                  1.0          NaN   \n",
       "\n",
       "        YouTubeSimplilearn  YouTubeTheNewBoston  \n",
       "count                201.0               2960.0  \n",
       "unique                 NaN                  NaN  \n",
       "top                    NaN                  NaN  \n",
       "freq                   NaN                  NaN  \n",
       "mean                   1.0                  1.0  \n",
       "std                    0.0                  0.0  \n",
       "min                    1.0                  1.0  \n",
       "25%                    1.0                  1.0  \n",
       "50%                    1.0                  1.0  \n",
       "75%                    1.0                  1.0  \n",
       "max                    1.0                  1.0  \n",
       "\n",
       "[11 rows x 136 columns]"
      ]
     },
     "execution_count": 10,
     "metadata": {},
     "output_type": "execute_result"
    }
   ],
   "source": [
    "survey.describe(include='all')"
   ]
  },
  {
   "cell_type": "markdown",
   "metadata": {},
   "source": [
    "The survey columns contain information regarding how they've been learning to code (bootcamps, podcasts, etc.) what types of roles participants are interested in pursuing, financial questions like how much debt they have, how many dependents, and how much money they're willing to spend to learn to code.  Also included are demographics questions like what country and city they're from and their ethnicities."
   ]
  },
  {
   "cell_type": "markdown",
   "metadata": {},
   "source": [
    "Next we look at the 'JobRoleInterest' category to see if this sample is representative of the population we're interested in: that is people looking to learn primarily Web & Mobile Developement, but also other related topics"
   ]
  },
  {
   "cell_type": "code",
   "execution_count": 26,
   "metadata": {
    "scrolled": true
   },
   "outputs": [
    {
     "data": {
      "text/plain": [
       "Full-Stack Web Developer                                                                                                                                                                                                                                                    0.117706\n",
       "  Front-End Web Developer                                                                                                                                                                                                                                                   0.064359\n",
       "  Data Scientist                                                                                                                                                                                                                                                            0.021739\n",
       "Back-End Web Developer                                                                                                                                                                                                                                                      0.020309\n",
       "  Mobile Developer                                                                                                                                                                                                                                                          0.016733\n",
       "Game Developer                                                                                                                                                                                                                                                              0.016304\n",
       "Information Security                                                                                                                                                                                                                                                        0.013158\n",
       "Full-Stack Web Developer,   Front-End Web Developer                                                                                                                                                                                                                         0.009153\n",
       "  Front-End Web Developer, Full-Stack Web Developer                                                                                                                                                                                                                         0.008009\n",
       "  Product Manager                                                                                                                                                                                                                                                           0.007866\n",
       "Data Engineer                                                                                                                                                                                                                                                               0.007580\n",
       "  User Experience Designer                                                                                                                                                                                                                                                  0.007437\n",
       "  User Experience Designer,   Front-End Web Developer                                                                                                                                                                                                                       0.006150\n",
       "  Front-End Web Developer, Back-End Web Developer, Full-Stack Web Developer                                                                                                                                                                                                 0.005578\n",
       "  DevOps / SysAdmin                                                                                                                                                                                                                                                         0.005149\n",
       "Back-End Web Developer,   Front-End Web Developer, Full-Stack Web Developer                                                                                                                                                                                                 0.005149\n",
       "Back-End Web Developer, Full-Stack Web Developer,   Front-End Web Developer                                                                                                                                                                                                 0.005149\n",
       "Full-Stack Web Developer,   Front-End Web Developer, Back-End Web Developer                                                                                                                                                                                                 0.004434\n",
       "  Front-End Web Developer, Full-Stack Web Developer, Back-End Web Developer                                                                                                                                                                                                 0.004291\n",
       "  Front-End Web Developer,   User Experience Designer                                                                                                                                                                                                                       0.004148\n",
       "Full-Stack Web Developer,   Mobile Developer                                                                                                                                                                                                                                0.004148\n",
       "Back-End Web Developer, Full-Stack Web Developer                                                                                                                                                                                                                            0.003862\n",
       "Full-Stack Web Developer, Back-End Web Developer                                                                                                                                                                                                                            0.003719\n",
       "Back-End Web Developer,   Front-End Web Developer                                                                                                                                                                                                                           0.002860\n",
       "Data Engineer,   Data Scientist                                                                                                                                                                                                                                             0.002717\n",
       "Full-Stack Web Developer, Back-End Web Developer,   Front-End Web Developer                                                                                                                                                                                                 0.002717\n",
       "  Front-End Web Developer,   Mobile Developer                                                                                                                                                                                                                               0.002574\n",
       "Full-Stack Web Developer,   Data Scientist                                                                                                                                                                                                                                  0.002431\n",
       "  Mobile Developer, Game Developer                                                                                                                                                                                                                                          0.002288\n",
       "  Data Scientist, Data Engineer                                                                                                                                                                                                                                             0.002288\n",
       "                                                                                                                                                                                                                                                                              ...   \n",
       "  DevOps / SysAdmin,   Mobile Developer,   Front-End Web Developer, Back-End Web Developer                                                                                                                                                                                  0.000143\n",
       "Game Developer,   DevOps / SysAdmin, Full-Stack Web Developer,   Front-End Web Developer, Back-End Web Developer,   Mobile Developer                                                                                                                                        0.000143\n",
       "Computer Architect                                                                                                                                                                                                                                                          0.000143\n",
       "  Mobile Developer,   DevOps / SysAdmin, Information Security                                                                                                                                                                                                               0.000143\n",
       "Full-Stack Web Developer,   Front-End Web Developer,   DevOps / SysAdmin, Data Engineer, Back-End Web Developer,   Quality Assurance Engineer                                                                                                                               0.000143\n",
       "  Mobile Developer,   Data Scientist, Data Engineer                                                                                                                                                                                                                         0.000143\n",
       "  Mobile Developer,   Front-End Web Developer, Data Engineer, Back-End Web Developer, Information Security,   Quality Assurance Engineer                                                                                                                                    0.000143\n",
       "  Data Scientist, Back-End Web Developer, Information Security,   DevOps / SysAdmin                                                                                                                                                                                         0.000143\n",
       "Full-Stack Web Developer,   DevOps / SysAdmin,   Front-End Web Developer, Information Security, Back-End Web Developer,   Mobile Developer                                                                                                                                  0.000143\n",
       "Back-End Web Developer,   User Experience Designer,   Front-End Web Developer, Full-Stack Web Developer, Game Developer,   Mobile Developer                                                                                                                                 0.000143\n",
       "Information Security, Back-End Web Developer, Full-Stack Web Developer,   Product Manager,   User Experience Designer                                                                                                                                                       0.000143\n",
       "Game Developer,   Front-End Web Developer,   Mobile Developer, Full-Stack Web Developer                                                                                                                                                                                     0.000143\n",
       "  Quality Assurance Engineer, Data Engineer, Full-Stack Web Developer, Information Security,   Front-End Web Developer                                                                                                                                                      0.000143\n",
       "  Data Scientist, Game Developer, Full-Stack Web Developer,   Mobile Developer, Back-End Web Developer                                                                                                                                                                      0.000143\n",
       "  Front-End Web Developer,   Data Scientist, Data Engineer,   Quality Assurance Engineer,   User Experience Designer, Game Developer,   Product Manager,   Mobile Developer, Full-Stack Web Developer, Back-End Web Developer,   DevOps / SysAdmin, Information Security    0.000143\n",
       "  Mobile Developer,   User Experience Designer, Full-Stack Web Developer,   Data Scientist                                                                                                                                                                                  0.000143\n",
       "Information Security, Game Developer, Data Engineer,   DevOps / SysAdmin,   Mobile Developer, Full-Stack Web Developer, Back-End Web Developer,   Front-End Web Developer,   User Experience Designer,   Data Scientist                                                     0.000143\n",
       "  Mobile Developer, Back-End Web Developer, Data Engineer,   Data Scientist,   User Experience Designer,   Front-End Web Developer                                                                                                                                          0.000143\n",
       "Information Security,   User Experience Designer, Back-End Web Developer,   Mobile Developer, Full-Stack Web Developer, Data Engineer,   Front-End Web Developer                                                                                                            0.000143\n",
       "  Mobile Developer, Game Developer,   Product Manager, Full-Stack Web Developer,   Quality Assurance Engineer                                                                                                                                                               0.000143\n",
       "  Mobile Developer,   Product Manager, Game Developer, Full-Stack Web Developer                                                                                                                                                                                             0.000143\n",
       "Full-Stack Web Developer,   Front-End Web Developer, virtual reality developer                                                                                                                                                                                              0.000143\n",
       "  Front-End Web Developer, Data Engineer,   DevOps / SysAdmin, Back-End Web Developer, Full-Stack Web Developer,   Mobile Developer,   User Experience Designer, Information Security                                                                                       0.000143\n",
       "Back-End Web Developer,   Mobile Developer,   User Experience Designer, Data Engineer, Full-Stack Web Developer,   Front-End Web Developer                                                                                                                                  0.000143\n",
       "Game Developer, Back-End Web Developer,   Front-End Web Developer, Data Engineer, Full-Stack Web Developer,   Data Scientist                                                                                                                                                0.000143\n",
       "  Front-End Web Developer,   Mobile Developer, Game Developer, Full-Stack Web Developer,   User Experience Designer, Back-End Web Developer                                                                                                                                 0.000143\n",
       "  Data Scientist, Full-Stack Web Developer, Back-End Web Developer, Data Engineer,   Mobile Developer                                                                                                                                                                       0.000143\n",
       "Information Security,   Data Scientist,   Product Manager                                                                                                                                                                                                                   0.000143\n",
       "Data Engineer, Full-Stack Web Developer, Back-End Web Developer, Information Security,   Quality Assurance Engineer                                                                                                                                                         0.000143\n",
       "  DevOps / SysAdmin,   User Experience Designer, Back-End Web Developer,   Front-End Web Developer,   Mobile Developer, Data Engineer, Full-Stack Web Developer,   Data Scientist                                                                                           0.000143\n",
       "Name: JobRoleInterest, Length: 3213, dtype: float64"
      ]
     },
     "execution_count": 26,
     "metadata": {},
     "output_type": "execute_result"
    }
   ],
   "source": [
    "survey['JobRoleInterest'].value_counts(normalize=True\n",
    "                                      )"
   ]
  },
  {
   "cell_type": "markdown",
   "metadata": {},
   "source": [
    "We see from the frequency table above that many people are interested in more than one topic, which is good because our company does produce content on more than just Web and Mobile Developement, however we'll create another frequency table to isolate these fields."
   ]
  },
  {
   "cell_type": "code",
   "execution_count": 54,
   "metadata": {},
   "outputs": [
    {
     "name": "stderr",
     "output_type": "stream",
     "text": [
      "/home/isaac/anaconda3/lib/python3.7/site-packages/ipykernel_launcher.py:1: UserWarning: This pattern has match groups. To actually get the groups, use str.extract.\n",
      "  \"\"\"Entry point for launching an IPython kernel.\n"
     ]
    },
    {
     "data": {
      "text/plain": [
       "True     6030\n",
       "False     962\n",
       "Name: JobRoleInterest, dtype: int64"
      ]
     },
     "execution_count": 54,
     "metadata": {},
     "output_type": "execute_result"
    }
   ],
   "source": [
    "survey['JobRoleInterest'].str.contains(r\"(Mobile)|(Web) Developer\").value_counts()"
   ]
  },
  {
   "cell_type": "markdown",
   "metadata": {},
   "source": [
    "In this sample we see that of the 6992 participants who responded to the question, 6030 are interested in learning Web Developement, Mobile Development, or both.\n",
    "To better visualize the distribution of interests I'll create a pie chart with four categories: Interested in Web Developement, Interested in Mobile Developement, Interested in Both, Not interested in either."
   ]
  },
  {
   "cell_type": "code",
   "execution_count": 62,
   "metadata": {},
   "outputs": [],
   "source": [
    "job_interests = survey['JobRoleInterest'].dropna().reset_index(drop=True)"
   ]
  },
  {
   "cell_type": "code",
   "execution_count": 68,
   "metadata": {},
   "outputs": [
    {
     "data": {
      "text/plain": [
       "False    962\n",
       "True     254\n",
       "Name: JobRoleInterest, dtype: int64"
      ]
     },
     "execution_count": 68,
     "metadata": {},
     "output_type": "execute_result"
    }
   ],
   "source": [
    "job_interests[~job_interests.str.contains(\"Web Developer\")].str.contains(\"Mobile\").value_counts()"
   ]
  },
  {
   "cell_type": "code",
   "execution_count": 69,
   "metadata": {},
   "outputs": [
    {
     "data": {
      "text/plain": [
       "True     3730\n",
       "False     958\n",
       "Name: JobRoleInterest, dtype: int64"
      ]
     },
     "execution_count": 69,
     "metadata": {},
     "output_type": "execute_result"
    }
   ],
   "source": [
    "job_interests[~job_interests.str.contains(\"Mobile Developer\")].str.contains(\"Web\").value_counts()"
   ]
  },
  {
   "cell_type": "markdown",
   "metadata": {},
   "source": [
    "So now we see that of the 6992 non-null values, 254 people are interested in Mobile but not web development, 3730 in web and not mobile development, leaving 2046 interested in both."
   ]
  },
  {
   "cell_type": "code",
   "execution_count": 82,
   "metadata": {},
   "outputs": [
    {
     "data": {
      "image/png": "[encoded data removed]",
      "text/plain": [
       "<Figure size 576x576 with 1 Axes>"
      ]
     },
     "metadata": {},
     "output_type": "display_data"
    }
   ],
   "source": [
    "fig = plt.figure(figsize=(8,8))\n",
    "plt.pie([2046,254,3730,962], labels=['Both', 'Mobile Only', 'Web Only', 'Neither'], autopct='%.2f%%')\n",
    "plt.title('Proportion of People Interested in Web and/or Mobile Developement')\n",
    "plt.show()"
   ]
  },
  {
   "cell_type": "code",
   "execution_count": 85,
   "metadata": {},
   "outputs": [],
   "source": [
    "interest_drop = survey[survey['JobRoleInterest'].notnull()]"
   ]
  },
  {
   "cell_type": "code",
   "execution_count": 90,
   "metadata": {
    "scrolled": true
   },
   "outputs": [
    {
     "name": "stderr",
     "output_type": "stream",
     "text": [
      "/home/isaac/anaconda3/lib/python3.7/site-packages/ipykernel_launcher.py:1: UserWarning: This pattern has match groups. To actually get the groups, use str.extract.\n",
      "  \"\"\"Entry point for launching an IPython kernel.\n"
     ]
    },
    {
     "data": {
      "text/plain": [
       "United States of America         2676\n",
       "India                             443\n",
       "United Kingdom                    281\n",
       "Canada                            221\n",
       "NaN                               128\n",
       "Poland                            121\n",
       "Brazil                            115\n",
       "Germany                           107\n",
       "Russia                             93\n",
       "Australia                          88\n",
       "Ukraine                            86\n",
       "Nigeria                            75\n",
       "France                             67\n",
       "Spain                              63\n",
       "Romania                            61\n",
       "Italy                              53\n",
       "Netherlands (Holland, Europe)      53\n",
       "Serbia                             52\n",
       "Philippines                        47\n",
       "Greece                             37\n",
       "Ireland                            37\n",
       "Mexico                             33\n",
       "South Africa                       32\n",
       "Hungary                            31\n",
       "Croatia                            31\n",
       "Turkey                             29\n",
       "New Zealand                        29\n",
       "Singapore                          29\n",
       "Sweden                             29\n",
       "Norway                             28\n",
       "                                 ... \n",
       "Panama                              1\n",
       "Mozambique                          1\n",
       "Trinidad & Tobago                   1\n",
       "Guatemala                           1\n",
       "Samoa                               1\n",
       "Bahrain                             1\n",
       "Yemen                               1\n",
       "Papua New Guinea                    1\n",
       "Bolivia                             1\n",
       "Kyrgyzstan                          1\n",
       "Cayman Islands                      1\n",
       "Ecuador                             1\n",
       "Botswana                            1\n",
       "Liberia                             1\n",
       "Myanmar                             1\n",
       "Turkmenistan                        1\n",
       "Somalia                             1\n",
       "Rwanda                              1\n",
       "Gambia                              1\n",
       "Gibraltar                           1\n",
       "Moldova                             1\n",
       "Qatar                               1\n",
       "Anguilla                            1\n",
       "Nicaragua                           1\n",
       "Aruba                               1\n",
       "Haiti                               1\n",
       "Cameroon                            1\n",
       "Nambia                              1\n",
       "Vanuatu                             1\n",
       "Channel Islands                     1\n",
       "Name: CountryLive, Length: 136, dtype: int64"
      ]
     },
     "execution_count": 90,
     "metadata": {},
     "output_type": "execute_result"
    }
   ],
   "source": [
    "interest_drop[interest_drop['JobRoleInterest'].str.contains(r\"(Mobile)|(Web) Developer\")]['CountryLive'].value_counts(dropna=False)"
   ]
  },
  {
   "cell_type": "markdown",
   "metadata": {},
   "source": [
    "Upon examining the frequency of countries where people mentioned that they're intereset in web/mobile developement, the two best countries to target our advertising are the USA and India."
   ]
  },
  {
   "cell_type": "code",
   "execution_count": 92,
   "metadata": {},
   "outputs": [
    {
     "name": "stderr",
     "output_type": "stream",
     "text": [
      "/home/isaac/anaconda3/lib/python3.7/site-packages/ipykernel_launcher.py:1: SettingWithCopyWarning: \n",
      "A value is trying to be set on a copy of a slice from a DataFrame.\n",
      "Try using .loc[row_indexer,col_indexer] = value instead\n",
      "\n",
      "See the caveats in the documentation: http://pandas.pydata.org/pandas-docs/stable/indexing.html#indexing-view-versus-copy\n",
      "  \"\"\"Entry point for launching an IPython kernel.\n"
     ]
    }
   ],
   "source": [
    "interest_drop['SpendingPerMonth'] = interest_drop['MoneyForLearning'] / interest_drop['MonthsProgramming'].replace(0, 1)"
   ]
  },
  {
   "cell_type": "code",
   "execution_count": 98,
   "metadata": {},
   "outputs": [
    {
     "data": {
      "text/plain": [
       "False    6317\n",
       "True      675\n",
       "Name: SpendingPerMonth, dtype: int64"
      ]
     },
     "execution_count": 98,
     "metadata": {},
     "output_type": "execute_result"
    }
   ],
   "source": [
    "interest_drop['SpendingPerMonth'].isnull().value_counts()"
   ]
  },
  {
   "cell_type": "markdown",
   "metadata": {},
   "source": [
    "Now we're looking at how much money people are willing to spend per month. Above I created a new column by dividing 'MoneyForLearning' by 'MonthsProgramming'.  To ensure I didn't divide by 0 I replaced all 0s with 1s.\n",
    "There are 675 observations in the column with null entries."
   ]
  },
  {
   "cell_type": "code",
   "execution_count": 99,
   "metadata": {},
   "outputs": [],
   "source": [
    "survey_cleaner = interest_drop.loc[interest_drop['CountryLive'].notnull() & interest_drop['SpendingPerMonth'].notnull()]"
   ]
  },
  {
   "cell_type": "code",
   "execution_count": 100,
   "metadata": {},
   "outputs": [
    {
     "data": {
      "text/plain": [
       "(6212, 137)"
      ]
     },
     "execution_count": 100,
     "metadata": {},
     "output_type": "execute_result"
    }
   ],
   "source": [
    "survey_cleaner.shape"
   ]
  },
  {
   "cell_type": "markdown",
   "metadata": {},
   "source": [
    "Removed rows with null entries in either 'CountryLive' or 'SpendingPerMonth'.\n",
    "Then grouping data by country"
   ]
  },
  {
   "cell_type": "code",
   "execution_count": 141,
   "metadata": {},
   "outputs": [],
   "source": [
    "country_groups = survey_cleaner[survey_cleaner.CountryLive.isin(['United States of America', 'India', 'Canada', 'United Kingdom'])].groupby('CountryLive')"
   ]
  },
  {
   "cell_type": "code",
   "execution_count": 142,
   "metadata": {},
   "outputs": [
    {
     "data": {
      "text/plain": [
       "CountryLive\n",
       "Canada                      113.510961\n",
       "India                       135.100982\n",
       "United Kingdom               45.534443\n",
       "United States of America    227.997996\n",
       "Name: SpendingPerMonth, dtype: float64"
      ]
     },
     "execution_count": 142,
     "metadata": {},
     "output_type": "execute_result"
    }
   ],
   "source": [
    "country_groups.agg(np.mean)['SpendingPerMonth']"
   ]
  },
  {
   "cell_type": "code",
   "execution_count": 143,
   "metadata": {},
   "outputs": [
    {
     "data": {
      "text/plain": [
       "CountryLive\n",
       "Canada                      0.000000\n",
       "India                       0.000000\n",
       "United Kingdom              0.000000\n",
       "United States of America    3.333333\n",
       "Name: SpendingPerMonth, dtype: float64"
      ]
     },
     "execution_count": 143,
     "metadata": {},
     "output_type": "execute_result"
    }
   ],
   "source": [
    "country_groups.agg(np.median)['SpendingPerMonth']"
   ]
  },
  {
   "cell_type": "markdown",
   "metadata": {},
   "source": [
    "Comparing the mean spending per month of residents in the US, India, Canada and the UK we see that people in the USA spend the most at 228/month, and the UK least at only about 45.50/month.\n",
    "\n",
    "However, the data is not so straightforward as once you look at the median you can see that it is much less than the mean.  Only $3.33/month in the US and then 0 for the other three countries.  This indicates that the distribution is heavily left skewed, with the vast majority of respondents not spending any money.\n",
    "\n",
    "Additionally it is surprising that the mean for India is so much higher than for Canada and the UK, given that the latters' GDP per capita is much higher than India's is.  Perhaps there are some outliers that should be looked into."
   ]
  },
  {
   "cell_type": "code",
   "execution_count": 125,
   "metadata": {},
   "outputs": [],
   "source": [
    "import seaborn as sns"
   ]
  },
  {
   "cell_type": "code",
   "execution_count": 218,
   "metadata": {},
   "outputs": [
    {
     "data": {
      "text/plain": [
       "(0, 4000)"
      ]
     },
     "execution_count": 218,
     "metadata": {},
     "output_type": "execute_result"
    },
    {
     "data": {
      "image/png": "[encoded data removed]",
      "text/plain": [
       "<Figure size 720x576 with 1 Axes>"
      ]
     },
     "metadata": {
      "needs_background": "light"
     },
     "output_type": "display_data"
    }
   ],
   "source": [
    "plt.figure(figsize=(10,8))\n",
    "sns.boxplot(x = 'CountryLive', y = 'SpendingPerMonth', data = survey_cleaner[survey_cleaner['CountryLive'].isin(['United States of America', 'India', 'Canada', 'United Kingdom'])])\n",
    "plt.ylim(0,4000)"
   ]
  },
  {
   "cell_type": "markdown",
   "metadata": {},
   "source": [
    "There are a huge number of outliers across the distribution, let's remove them and create a new boxplot"
   ]
  },
  {
   "cell_type": "code",
   "execution_count": 221,
   "metadata": {},
   "outputs": [
    {
     "data": {
      "text/html": [
       "<div>\n",
       "<style scoped>\n",
       "    .dataframe tbody tr th:only-of-type {\n",
       "        vertical-align: middle;\n",
       "    }\n",
       "\n",
       "    .dataframe tbody tr th {\n",
       "        vertical-align: top;\n",
       "    }\n",
       "\n",
       "    .dataframe thead th {\n",
       "        text-align: right;\n",
       "    }\n",
       "</style>\n",
       "<table border=\"1\" class=\"dataframe\">\n",
       "  <thead>\n",
       "    <tr style=\"text-align: right;\">\n",
       "      <th></th>\n",
       "      <th>count</th>\n",
       "      <th>mean</th>\n",
       "      <th>std</th>\n",
       "      <th>min</th>\n",
       "      <th>25%</th>\n",
       "      <th>50%</th>\n",
       "      <th>75%</th>\n",
       "      <th>90%</th>\n",
       "      <th>95%</th>\n",
       "      <th>99%</th>\n",
       "      <th>max</th>\n",
       "    </tr>\n",
       "    <tr>\n",
       "      <th>CountryLive</th>\n",
       "      <th></th>\n",
       "      <th></th>\n",
       "      <th></th>\n",
       "      <th></th>\n",
       "      <th></th>\n",
       "      <th></th>\n",
       "      <th></th>\n",
       "      <th></th>\n",
       "      <th></th>\n",
       "      <th></th>\n",
       "      <th></th>\n",
       "    </tr>\n",
       "  </thead>\n",
       "  <tbody>\n",
       "    <tr>\n",
       "      <th>Canada</th>\n",
       "      <td>240.0</td>\n",
       "      <td>113.510961</td>\n",
       "      <td>441.014158</td>\n",
       "      <td>0.0</td>\n",
       "      <td>0.0</td>\n",
       "      <td>0.000000</td>\n",
       "      <td>25.000000</td>\n",
       "      <td>212.500000</td>\n",
       "      <td>592.803030</td>\n",
       "      <td>1902.500000</td>\n",
       "      <td>5000.0</td>\n",
       "    </tr>\n",
       "    <tr>\n",
       "      <th>India</th>\n",
       "      <td>463.0</td>\n",
       "      <td>135.100982</td>\n",
       "      <td>692.960378</td>\n",
       "      <td>0.0</td>\n",
       "      <td>0.0</td>\n",
       "      <td>0.000000</td>\n",
       "      <td>13.250000</td>\n",
       "      <td>163.333333</td>\n",
       "      <td>491.650000</td>\n",
       "      <td>3650.000000</td>\n",
       "      <td>10000.0</td>\n",
       "    </tr>\n",
       "    <tr>\n",
       "      <th>United Kingdom</th>\n",
       "      <td>279.0</td>\n",
       "      <td>45.534443</td>\n",
       "      <td>162.311836</td>\n",
       "      <td>0.0</td>\n",
       "      <td>0.0</td>\n",
       "      <td>0.000000</td>\n",
       "      <td>20.416667</td>\n",
       "      <td>92.727273</td>\n",
       "      <td>200.000000</td>\n",
       "      <td>1044.000000</td>\n",
       "      <td>1400.0</td>\n",
       "    </tr>\n",
       "    <tr>\n",
       "      <th>United States of America</th>\n",
       "      <td>2933.0</td>\n",
       "      <td>227.997996</td>\n",
       "      <td>1940.245614</td>\n",
       "      <td>0.0</td>\n",
       "      <td>0.0</td>\n",
       "      <td>3.333333</td>\n",
       "      <td>50.000000</td>\n",
       "      <td>300.000000</td>\n",
       "      <td>833.333333</td>\n",
       "      <td>3333.333333</td>\n",
       "      <td>80000.0</td>\n",
       "    </tr>\n",
       "  </tbody>\n",
       "</table>\n",
       "</div>"
      ],
      "text/plain": [
       "                           count        mean          std  min  25%       50%  \\\n",
       "CountryLive                                                                     \n",
       "Canada                     240.0  113.510961   441.014158  0.0  0.0  0.000000   \n",
       "India                      463.0  135.100982   692.960378  0.0  0.0  0.000000   \n",
       "United Kingdom             279.0   45.534443   162.311836  0.0  0.0  0.000000   \n",
       "United States of America  2933.0  227.997996  1940.245614  0.0  0.0  3.333333   \n",
       "\n",
       "                                75%         90%         95%          99%  \\\n",
       "CountryLive                                                                \n",
       "Canada                    25.000000  212.500000  592.803030  1902.500000   \n",
       "India                     13.250000  163.333333  491.650000  3650.000000   \n",
       "United Kingdom            20.416667   92.727273  200.000000  1044.000000   \n",
       "United States of America  50.000000  300.000000  833.333333  3333.333333   \n",
       "\n",
       "                              max  \n",
       "CountryLive                        \n",
       "Canada                     5000.0  \n",
       "India                     10000.0  \n",
       "United Kingdom             1400.0  \n",
       "United States of America  80000.0  "
      ]
     },
     "execution_count": 221,
     "metadata": {},
     "output_type": "execute_result"
    }
   ],
   "source": [
    "country_groups.describe(percentiles=[0.25, 0.5, 0.75, 0.9, 0.95, 0.99])['SpendingPerMonth']"
   ]
  },
  {
   "cell_type": "markdown",
   "metadata": {},
   "source": [
    "By using several different percentiles at which to set the maximum outlier we can vary the mean and median of each countries distribution, while maintaining consistent across the distributions.\n",
    "\n",
    "Below I've chosen to work with the 95th percentile for each country as the maximum outlier value. I.e. any spending value for a customer in Canada over $592.81 was omitted."
   ]
  },
  {
   "cell_type": "code",
   "execution_count": 219,
   "metadata": {},
   "outputs": [],
   "source": [
    "Q1 = [0,0,0,0]\n",
    "Q3 = [25, 13.25, 20.4166, 50]\n",
    "Q2 = [0,0,0,3.333]\n",
    "\n",
    "IQR = pd.DataFrame([Q1, Q2, Q3], columns = ['Canada', 'India', 'United Kingdom', 'United States of America']).T\n",
    "IQR['range'] = IQR[2] - IQR[0]\n",
    "IQR['mild'] = IQR[2] + IQR['range'] * 1.5\n",
    "IQR['extreme'] = IQR[2] + IQR['range'] * 3\n",
    "IQR['largest'] = IQR[2] + IQR['range'] * 5"
   ]
  },
  {
   "cell_type": "code",
   "execution_count": 220,
   "metadata": {},
   "outputs": [
    {
     "data": {
      "text/html": [
       "<div>\n",
       "<style scoped>\n",
       "    .dataframe tbody tr th:only-of-type {\n",
       "        vertical-align: middle;\n",
       "    }\n",
       "\n",
       "    .dataframe tbody tr th {\n",
       "        vertical-align: top;\n",
       "    }\n",
       "\n",
       "    .dataframe thead th {\n",
       "        text-align: right;\n",
       "    }\n",
       "</style>\n",
       "<table border=\"1\" class=\"dataframe\">\n",
       "  <thead>\n",
       "    <tr style=\"text-align: right;\">\n",
       "      <th></th>\n",
       "      <th>0</th>\n",
       "      <th>1</th>\n",
       "      <th>2</th>\n",
       "      <th>range</th>\n",
       "      <th>mild</th>\n",
       "      <th>extreme</th>\n",
       "      <th>largest</th>\n",
       "    </tr>\n",
       "  </thead>\n",
       "  <tbody>\n",
       "    <tr>\n",
       "      <th>Canada</th>\n",
       "      <td>0.0</td>\n",
       "      <td>0.000</td>\n",
       "      <td>25.0000</td>\n",
       "      <td>25.0000</td>\n",
       "      <td>62.5000</td>\n",
       "      <td>100.0000</td>\n",
       "      <td>150.0000</td>\n",
       "    </tr>\n",
       "    <tr>\n",
       "      <th>India</th>\n",
       "      <td>0.0</td>\n",
       "      <td>0.000</td>\n",
       "      <td>13.2500</td>\n",
       "      <td>13.2500</td>\n",
       "      <td>33.1250</td>\n",
       "      <td>53.0000</td>\n",
       "      <td>79.5000</td>\n",
       "    </tr>\n",
       "    <tr>\n",
       "      <th>United Kingdom</th>\n",
       "      <td>0.0</td>\n",
       "      <td>0.000</td>\n",
       "      <td>20.4166</td>\n",
       "      <td>20.4166</td>\n",
       "      <td>51.0415</td>\n",
       "      <td>81.6664</td>\n",
       "      <td>122.4996</td>\n",
       "    </tr>\n",
       "    <tr>\n",
       "      <th>United States of America</th>\n",
       "      <td>0.0</td>\n",
       "      <td>3.333</td>\n",
       "      <td>50.0000</td>\n",
       "      <td>50.0000</td>\n",
       "      <td>125.0000</td>\n",
       "      <td>200.0000</td>\n",
       "      <td>300.0000</td>\n",
       "    </tr>\n",
       "  </tbody>\n",
       "</table>\n",
       "</div>"
      ],
      "text/plain": [
       "                            0      1        2    range      mild   extreme  \\\n",
       "Canada                    0.0  0.000  25.0000  25.0000   62.5000  100.0000   \n",
       "India                     0.0  0.000  13.2500  13.2500   33.1250   53.0000   \n",
       "United Kingdom            0.0  0.000  20.4166  20.4166   51.0415   81.6664   \n",
       "United States of America  0.0  3.333  50.0000  50.0000  125.0000  200.0000   \n",
       "\n",
       "                           largest  \n",
       "Canada                    150.0000  \n",
       "India                      79.5000  \n",
       "United Kingdom            122.4996  \n",
       "United States of America  300.0000  "
      ]
     },
     "execution_count": 220,
     "metadata": {},
     "output_type": "execute_result"
    }
   ],
   "source": [
    "IQR"
   ]
  },
  {
   "cell_type": "code",
   "execution_count": 171,
   "metadata": {},
   "outputs": [],
   "source": [
    "four_countries = survey_cleaner[survey_cleaner['CountryLive'].isin(['United States of America', 'India', 'Canada', 'United Kingdom'])]"
   ]
  },
  {
   "cell_type": "code",
   "execution_count": 183,
   "metadata": {},
   "outputs": [],
   "source": [
    "four_countries = four_countries[['CountryLive', 'SpendingPerMonth']]"
   ]
  },
  {
   "cell_type": "code",
   "execution_count": 231,
   "metadata": {},
   "outputs": [],
   "source": [
    "def rm_outliers(df):\n",
    "    maxx = {'Canada':592.81, 'India':491.66, 'United Kingdom': 200.1, 'United States of America':834}\n",
    "    if df[1] > maxx[df[0]]:\n",
    "        return False\n",
    "    else:\n",
    "        return True"
   ]
  },
  {
   "cell_type": "code",
   "execution_count": 233,
   "metadata": {},
   "outputs": [
    {
     "data": {
      "text/plain": [
       "Text(0.5, 1.0, 'Boxplots of Country values, excluding outliers in top 5%')"
      ]
     },
     "execution_count": 233,
     "metadata": {},
     "output_type": "execute_result"
    },
    {
     "data": {
      "image/png": "[encoded data removed]",
      "text/plain": [
       "<Figure size 720x576 with 1 Axes>"
      ]
     },
     "metadata": {
      "needs_background": "light"
     },
     "output_type": "display_data"
    }
   ],
   "source": [
    "fig = plt.figure(figsize=(10,8))\n",
    "sns.boxplot(x = 'CountryLive', y = 'SpendingPerMonth', data = four_countries[four_countries.apply(rm_outliers, axis=1)])\n",
    "plt.title('Boxplots of Country values, excluding outliers in top 5%')"
   ]
  },
  {
   "cell_type": "code",
   "execution_count": 234,
   "metadata": {},
   "outputs": [],
   "source": [
    "group_two = four_countries[four_countries.apply(rm_outliers, axis=1)].groupby('CountryLive')"
   ]
  },
  {
   "cell_type": "code",
   "execution_count": 235,
   "metadata": {},
   "outputs": [
    {
     "data": {
      "text/html": [
       "<div>\n",
       "<style scoped>\n",
       "    .dataframe tbody tr th:only-of-type {\n",
       "        vertical-align: middle;\n",
       "    }\n",
       "\n",
       "    .dataframe tbody tr th {\n",
       "        vertical-align: top;\n",
       "    }\n",
       "\n",
       "    .dataframe thead tr th {\n",
       "        text-align: left;\n",
       "    }\n",
       "\n",
       "    .dataframe thead tr:last-of-type th {\n",
       "        text-align: right;\n",
       "    }\n",
       "</style>\n",
       "<table border=\"1\" class=\"dataframe\">\n",
       "  <thead>\n",
       "    <tr>\n",
       "      <th></th>\n",
       "      <th colspan=\"2\" halign=\"left\">SpendingPerMonth</th>\n",
       "    </tr>\n",
       "    <tr>\n",
       "      <th></th>\n",
       "      <th>mean</th>\n",
       "      <th>median</th>\n",
       "    </tr>\n",
       "    <tr>\n",
       "      <th>CountryLive</th>\n",
       "      <th></th>\n",
       "      <th></th>\n",
       "    </tr>\n",
       "  </thead>\n",
       "  <tbody>\n",
       "    <tr>\n",
       "      <th>Canada</th>\n",
       "      <td>32.721555</td>\n",
       "      <td>0.0</td>\n",
       "    </tr>\n",
       "    <tr>\n",
       "      <th>India</th>\n",
       "      <td>23.656237</td>\n",
       "      <td>0.0</td>\n",
       "    </tr>\n",
       "    <tr>\n",
       "      <th>United Kingdom</th>\n",
       "      <td>18.539863</td>\n",
       "      <td>0.0</td>\n",
       "    </tr>\n",
       "    <tr>\n",
       "      <th>United States of America</th>\n",
       "      <td>52.849456</td>\n",
       "      <td>2.0</td>\n",
       "    </tr>\n",
       "  </tbody>\n",
       "</table>\n",
       "</div>"
      ],
      "text/plain": [
       "                         SpendingPerMonth       \n",
       "                                     mean median\n",
       "CountryLive                                     \n",
       "Canada                          32.721555    0.0\n",
       "India                           23.656237    0.0\n",
       "United Kingdom                  18.539863    0.0\n",
       "United States of America        52.849456    2.0"
      ]
     },
     "execution_count": 235,
     "metadata": {},
     "output_type": "execute_result"
    }
   ],
   "source": [
    "group_two.agg([np.mean, np.median])"
   ]
  },
  {
   "cell_type": "markdown",
   "metadata": {},
   "source": [
    "To help determine which second country to advertise in, in addition to the US, let's look at how many people in each country currently spends more than $59 a month"
   ]
  },
  {
   "cell_type": "code",
   "execution_count": 270,
   "metadata": {},
   "outputs": [
    {
     "data": {
      "text/plain": [
       "United States of America    664\n",
       "India                        75\n",
       "United Kingdom               43\n",
       "Canada                       40\n",
       "Name: CountryLive, dtype: int64"
      ]
     },
     "execution_count": 270,
     "metadata": {},
     "output_type": "execute_result"
    }
   ],
   "source": [
    "four_countries[four_countries['SpendingPerMonth'] >= 59]['CountryLive'].value_counts()"
   ]
  },
  {
   "cell_type": "markdown",
   "metadata": {},
   "source": [
    "There we can see India has the most people after the USA who already spend more than $75 a month, hence our best course of action would be to include India in our advertising campaign."
   ]
  },
  {
   "cell_type": "code",
   "execution_count": 271,
   "metadata": {},
   "outputs": [],
   "source": [
    "without_outliers = four_countries[four_countries.apply(rm_outliers, axis=1)]"
   ]
  },
  {
   "cell_type": "code",
   "execution_count": 272,
   "metadata": {},
   "outputs": [
    {
     "data": {
      "text/plain": [
       "United States of America    525\n",
       "India                        51\n",
       "United Kingdom               31\n",
       "Canada                       28\n",
       "Name: CountryLive, dtype: int64"
      ]
     },
     "execution_count": 272,
     "metadata": {},
     "output_type": "execute_result"
    }
   ],
   "source": [
    "without_outliers[without_outliers['SpendingPerMonth'] >= 59]['CountryLive'].value_counts()"
   ]
  },
  {
   "cell_type": "markdown",
   "metadata": {},
   "source": [
    "Even without outliers, there are still more people who currently spend $59 per month in India than either in Canada or the UK.  With such a small sample size however, the survey used for this analysis may not be reliable enough to chose one of the three countries with certainty."
   ]
  },
  {
   "cell_type": "code",
   "execution_count": 278,
   "metadata": {},
   "outputs": [
    {
     "data": {
      "text/plain": [
       "757"
      ]
     },
     "execution_count": 278,
     "metadata": {},
     "output_type": "execute_result"
    }
   ],
   "source": [
    "tot_india = survey[survey.CountryLive == 'India'].shape[0]\n",
    "tot_canada = survey[survey.CountryLive == 'Canada'].shape[0]\n",
    "\n",
    "pct_india = 51/tot_india\n",
    "pct_canada = 28/tot_canada\n",
    "survey[survey.CountryLive == 'United Kingdom'].shape[0]"
   ]
  },
  {
   "cell_type": "code",
   "execution_count": 283,
   "metadata": {},
   "outputs": [
    {
     "name": "stdout",
     "output_type": "stream",
     "text": [
      "3.64% of Respondents in India currently pay\n",
      "4.55% of Respondents in Canada currently pay\n",
      "4.10% of Respondents in the UK currently pay\n"
     ]
    }
   ],
   "source": [
    "print(\"%.2f%% of Respondents in India currently pay\" % (pct_india*100))\n",
    "print(\"%.2f%% of Respondents in Canada currently pay\" % (pct_canada*100))\n",
    "print(\"%.2f%% of Respondents in the UK currently pay\" % (3100/757))"
   ]
  },
  {
   "cell_type": "code",
   "execution_count": null,
   "metadata": {},
   "outputs": [],
   "source": []
  }
 ],
 "metadata": {
  "kernelspec": {
   "display_name": "Python 3",
   "language": "python",
   "name": "python3"
  },
  "language_info": {
   "codemirror_mode": {
    "name": "ipython",
    "version": 3
   },
   "file_extension": ".py",
   "mimetype": "text/x-python",
   "name": "python",
   "nbconvert_exporter": "python",
   "pygments_lexer": "ipython3",
   "version": "3.7.3"
  }
 },
 "nbformat": 4,
 "nbformat_minor": 2
}
